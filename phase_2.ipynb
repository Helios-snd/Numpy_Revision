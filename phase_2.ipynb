{
 "cells": [
  {
   "cell_type": "markdown",
   "metadata": {},
   "source": [
    "## Numpy Array Operations \n"
   ]
  },
  {
   "cell_type": "code",
   "execution_count": 24,
   "metadata": {},
   "outputs": [],
   "source": [
    "import numpy as np"
   ]
  },
  {
   "cell_type": "code",
   "execution_count": 25,
   "metadata": {},
   "outputs": [
    {
     "name": "stdout",
     "output_type": "stream",
     "text": [
      "Basic Slicing:  [3 4 5 6 7]\n",
      "Slicing With Step:  [2 4 6 8]\n",
      "Negative indexing:  7\n",
      "Negative indexing:  [2]\n"
     ]
    }
   ],
   "source": [
    "arr = np.array([1, 2, 3, 4, 5, 6, 7, 8, 9])\n",
    "print(\"Basic Slicing: \",arr[2:7])\n",
    "print(\"Slicing With Step: \",arr[1:8:2])\n",
    "print(\"Negative indexing: \",arr[-3])\n",
    "print(\"Negative indexing: \",arr[-8:-7])"
   ]
  },
  {
   "cell_type": "code",
   "execution_count": 26,
   "metadata": {},
   "outputs": [
    {
     "name": "stdout",
     "output_type": "stream",
     "text": [
      "Specific element:  6\n",
      "Entire row:  [4 5 6]\n",
      "Entire column:  [2 5 8]\n"
     ]
    }
   ],
   "source": [
    "arr_2D = np.array([[1,2,3],\n",
    "                   [4,5,6],\n",
    "                   [7,8,9]])\n",
    "print(\"Specific element: \",arr_2D[1,2])\n",
    "print(\"Entire row: \",arr_2D[1])\n",
    "print(\"Entire column: \",arr_2D[:,1])\n",
    "#print(\"2D array slicing: \",arr_2D[1,1])"
   ]
  },
  {
   "cell_type": "markdown",
   "metadata": {},
   "source": [
    "### Sorting\n"
   ]
  },
  {
   "cell_type": "code",
   "execution_count": 27,
   "metadata": {},
   "outputs": [
    {
     "name": "stdout",
     "output_type": "stream",
     "text": [
      "Unsorted array:  [3 1 2 4 5 9 8 7 6]\n",
      "Sorted array:  [1 2 3 4 5 6 7 8 9]\n",
      "Sorted 2D array by column:\n",
      " [[1 1]\n",
      " [2 2]\n",
      " [3 3]]\n",
      "Sorted 2D array by row:\n",
      " [[1 3]\n",
      " [1 2]\n",
      " [2 3]]\n"
     ]
    }
   ],
   "source": [
    "unsorted = np.array([3, 1, 2, 4, 5,9, 8, 7, 6])\n",
    "print(\"Unsorted array: \",unsorted)\n",
    "sorted = np.sort(unsorted)\n",
    "print(\"Sorted array: \",sorted)\n",
    "\n",
    "# arr_2D_unsorted = np.array([[3,2,1],\n",
    "#                             [6,5,4],\n",
    "#                             [9,8,7]])\n",
    "\n",
    "arr_2D_unsorted = np.array([[3,1],[1,2],[2,3]])\n",
    "print(\"Sorted 2D array by column:\\n\",np.sort(arr_2D_unsorted, axis=0))\n",
    "print(\"Sorted 2D array by row:\\n\",np.sort(arr_2D_unsorted, axis=1))"
   ]
  },
  {
   "cell_type": "markdown",
   "metadata": {},
   "source": [
    "### Filter\n"
   ]
  },
  {
   "cell_type": "code",
   "execution_count": 28,
   "metadata": {},
   "outputs": [
    {
     "name": "stdout",
     "output_type": "stream",
     "text": [
      "Even numbers:  [ 2  4  6  8 10]\n"
     ]
    }
   ],
   "source": [
    "numbers = np.array([1, 2, 3, 4, 5, 6, 7, 8, 9, 10])\n",
    "even_numbers = numbers[numbers % 2 == 0] \n",
    "# numbers % 2 == 0 is is a mask \n",
    "print(\"Even numbers: \",even_numbers)"
   ]
  },
  {
   "cell_type": "markdown",
   "metadata": {},
   "source": [
    "### Filter with mask\n"
   ]
  },
  {
   "cell_type": "code",
   "execution_count": 29,
   "metadata": {},
   "outputs": [
    {
     "name": "stdout",
     "output_type": "stream",
     "text": [
      "Numbers greater than 5:  [ 6  7  8  9 10]\n"
     ]
    }
   ],
   "source": [
    "mask = numbers > 5 # Mask stores expression for evaluation \n",
    "print(\"Numbers greater than 5: \" , numbers[mask])"
   ]
  },
  {
   "cell_type": "markdown",
   "metadata": {},
   "source": [
    "### Fancy Indexing vs np. where()"
   ]
  },
  {
   "cell_type": "code",
   "execution_count": 32,
   "metadata": {},
   "outputs": [
    {
     "name": "stdout",
     "output_type": "stream",
     "text": [
      "[1 3 5]\n",
      "(array([5, 6, 7, 8, 9]),)\n",
      "NP where [ 6  7  8  9 10]\n"
     ]
    }
   ],
   "source": [
    "indices = [0,2,4]\n",
    "print(numbers[indices])\n",
    "\n",
    "where_result = np.where(numbers > 5)\n",
    "print(where_result)\n",
    "print(\"NP where\", numbers[where_result])"
   ]
  },
  {
   "cell_type": "code",
   "execution_count": 39,
   "metadata": {},
   "outputs": [
    {
     "name": "stdout",
     "output_type": "stream",
     "text": [
      "['1' '2' '3' '4' 'true' 'true' 'true' 'true' 'true' 'true']\n"
     ]
    }
   ],
   "source": [
    "condition_Arry = np.where(numbers >= 5, \"true\", numbers)\n",
    "print(condition_Arry) "
   ]
  },
  {
   "cell_type": "markdown",
   "metadata": {},
   "source": [
    "### Adding and removing Data"
   ]
  },
  {
   "cell_type": "code",
   "execution_count": 40,
   "metadata": {},
   "outputs": [
    {
     "name": "stdout",
     "output_type": "stream",
     "text": [
      "[1 2 3 4 5 6]\n"
     ]
    }
   ],
   "source": [
    "arr1 = np.array([1,2,3])\n",
    "arr2 = np.array([4,5,6])\n",
    "\n",
    "combined  = np.concatenate((arr1,arr2))\n",
    "print(combined)"
   ]
  },
  {
   "cell_type": "markdown",
   "metadata": {},
   "source": [
    "### Array compatibiltiy\n"
   ]
  },
  {
   "cell_type": "code",
   "execution_count": 45,
   "metadata": {},
   "outputs": [
    {
     "name": "stdout",
     "output_type": "stream",
     "text": [
      "Compatiblity Shapes:  True\n"
     ]
    }
   ],
   "source": [
    "a = np.array([1,2,3])\n",
    "b = np.array([4,5,6])\n",
    "c = np.array([7,8,9])\n",
    "\n",
    "print(\"Compatiblity Shapes: \", a.shape == b.shape)"
   ]
  },
  {
   "cell_type": "code",
   "execution_count": 49,
   "metadata": {},
   "outputs": [
    {
     "name": "stdout",
     "output_type": "stream",
     "text": [
      "[[1 2]\n",
      " [3 4]]\n",
      "\n",
      "\n",
      "[[1 2]\n",
      " [3 4]\n",
      " [5 6]]\n",
      "\n",
      "\n",
      "[[  1   2 111]\n",
      " [  3   4 222]]\n"
     ]
    }
   ],
   "source": [
    "original = np.array([[1,2],[3,4]])\n",
    "new_row = np.array([[5,6]])\n",
    "\n",
    "with_new_row = np.vstack((original, new_row))\n",
    "\n",
    "print(original)\n",
    "print(\"\\n\")\n",
    "print(with_new_row)\n",
    "\n",
    "new_col = np.array([[111], [222]])\n",
    "with_new_col = np.hstack((original, new_col))\n",
    "print(\"\\n\")\n",
    "print(with_new_col)"
   ]
  },
  {
   "cell_type": "code",
   "execution_count": 51,
   "metadata": {},
   "outputs": [
    {
     "name": "stdout",
     "output_type": "stream",
     "text": [
      "Array afer dletion:  [1 2 3 5 6 7 8 9]\n"
     ]
    }
   ],
   "source": [
    "arr =  np.array([1,2,3,4,5,6,7,8,9])\n",
    "deleted = np.delete(arr, 3)\n",
    "print(\"Array afer dletion: \",deleted)"
   ]
  },
  {
   "cell_type": "code",
   "execution_count": null,
   "metadata": {},
   "outputs": [],
   "source": []
  }
 ],
 "metadata": {
  "kernelspec": {
   "display_name": "venv",
   "language": "python",
   "name": "python3"
  },
  "language_info": {
   "codemirror_mode": {
    "name": "ipython",
    "version": 3
   },
   "file_extension": ".py",
   "mimetype": "text/x-python",
   "name": "python",
   "nbconvert_exporter": "python",
   "pygments_lexer": "ipython3",
   "version": "3.12.4"
  }
 },
 "nbformat": 4,
 "nbformat_minor": 2
}
