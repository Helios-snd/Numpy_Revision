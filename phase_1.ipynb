{
 "cells": [
  {
   "cell_type": "markdown",
   "metadata": {},
   "source": [
    "## Numpy array and basics\n"
   ]
  },
  {
   "cell_type": "code",
   "execution_count": 2,
   "metadata": {},
   "outputs": [],
   "source": [
    "import numpy as np"
   ]
  },
  {
   "cell_type": "markdown",
   "metadata": {},
   "source": [
    "### Creating Array from List"
   ]
  },
  {
   "cell_type": "code",
   "execution_count": 3,
   "metadata": {},
   "outputs": [
    {
     "name": "stdout",
     "output_type": "stream",
     "text": [
      "1D array:  [1 2 3 4 5]\n",
      "2D array:  [[1 2 3]\n",
      " [4 5 6]]\n"
     ]
    }
   ],
   "source": [
    "arr_1D = np.array([1,2,3,4,5])\n",
    "arr_2D = np.array([[1,2,3],[4,5,6]])\n",
    "print(\"1D array: \", arr_1D)\n",
    "print(\"2D array: \", arr_2D)"
   ]
  },
  {
   "cell_type": "markdown",
   "metadata": {},
   "source": [
    "### List vs numpy array\n"
   ]
  },
  {
   "cell_type": "code",
   "execution_count": 4,
   "metadata": {},
   "outputs": [
    {
     "name": "stdout",
     "output_type": "stream",
     "text": [
      "Python list multiplication [1, 2, 3, 1, 2, 3]\n",
      "Python array multiplication [2 4 6]\n",
      " \n",
      " List Operation time:  0.09272170066833496\n",
      " \n",
      " Numpy Operation time:  0.007998466491699219\n"
     ]
    }
   ],
   "source": [
    "py_list = [1,2,3]\n",
    "print(\"Python list multiplication\", py_list*2)\n",
    "\n",
    "np_array = np.array ([1,2,3])\n",
    "print(\"Python array multiplication\", np_array*2)\n",
    "\n",
    "import time\n",
    "start = time.time()\n",
    "py_list = [i*2 for i in range(1000000)]\n",
    "print(\" \\n List Operation time: \", time.time()-start)\n",
    "\n",
    "start = time.time()\n",
    "np_array = np.arange(1000000)*2 \n",
    "print(\" \\n Numpy Operation time: \", time.time()-start)"
   ]
  },
  {
   "cell_type": "markdown",
   "metadata": {},
   "source": [
    "### creating array from scratch \n"
   ]
  },
  {
   "cell_type": "code",
   "execution_count": 5,
   "metadata": {},
   "outputs": [
    {
     "name": "stdout",
     "output_type": "stream",
     "text": [
      "Zeros array: \n",
      " [[0. 0. 0. 0. 0.]\n",
      " [0. 0. 0. 0. 0.]\n",
      " [0. 0. 0. 0. 0.]]\n",
      "Ones array: \n",
      " [[1. 1. 1. 1. 1.]\n",
      " [1. 1. 1. 1. 1.]\n",
      " [1. 1. 1. 1. 1.]]\n",
      "Full array: \n",
      " [[7 7]\n",
      " [7 7]]\n",
      "Random array: \n",
      " [[0.14372046 0.72045786 0.46931281]\n",
      " [0.8567315  0.64792022 0.92778228]]\n",
      "Sequence array: \n",
      " [ 0  2  4  6  8 10]\n"
     ]
    }
   ],
   "source": [
    "Zeros  = np.zeros((3,5))\n",
    "print(\"Zeros array: \\n\", Zeros)\n",
    "\n",
    "Ones = np.ones((3,5))\n",
    "print(\"Ones array: \\n\", Ones)\n",
    "\n",
    "full = np.full((2,2), 7)\n",
    "print(\"Full array: \\n\", full)\n",
    "\n",
    "random = np.random.random((2,3))\n",
    "print(\"Random array: \\n\", random)\n",
    "\n",
    "sequence = np.arange(0, 11, 2)\n",
    "print(\"Sequence array: \\n\", sequence)\n"
   ]
  },
  {
   "cell_type": "markdown",
   "metadata": {},
   "source": [
    "### Vector Matrix and Tensor "
   ]
  },
  {
   "cell_type": "code",
   "execution_count": 6,
   "metadata": {},
   "outputs": [
    {
     "name": "stdout",
     "output_type": "stream",
     "text": [
      "Vector:  [1 2 3 4 5]\n",
      "Matrix: \n",
      " [[1 2 3]\n",
      " [4 5 6]]\n",
      "Tensor: \n",
      " [[[ 1  2  3]\n",
      "  [ 4  5  6]]\n",
      "\n",
      " [[ 7  8  9]\n",
      "  [10 11 12]]]\n"
     ]
    }
   ],
   "source": [
    "Vector =  np.array([1,2,3,4,5])\n",
    "print(\"Vector: \", Vector)\n",
    "\n",
    "Matrix = np.array([[1,2,3],[4,5,6]])\n",
    "print(\"Matrix: \\n\", Matrix)\n",
    "\n",
    "Tensor = np.array([[[1,2,3],[4,5,6]],\n",
    "                   [[7,8,9],[10,11,12]]])\n",
    "print(\"Tensor: \\n\", Tensor)"
   ]
  },
  {
   "cell_type": "markdown",
   "metadata": {},
   "source": [
    "### Array Propeties \n"
   ]
  },
  {
   "cell_type": "code",
   "execution_count": 13,
   "metadata": {},
   "outputs": [
    {
     "name": "stdout",
     "output_type": "stream",
     "text": [
      "Shape of array:  (3, 4)\n",
      "Size of array:  12\n",
      "Dimensions of array:  2\n",
      "Data type of array:  float64\n"
     ]
    }
   ],
   "source": [
    "arr = np.array([[1,2,3,4],\n",
    "                [5,6,7,8],\n",
    "                [9,10,11,12.83]])\n",
    "\n",
    "print(\"Shape of array: \", arr.shape)\n",
    "print(\"Size of array: \", arr.size)\n",
    "print(\"Dimensions of array: \", arr.ndim)\n",
    "print(\"Data type of array: \", arr.dtype)"
   ]
  },
  {
   "cell_type": "markdown",
   "metadata": {},
   "source": [
    "### Array Reshaping"
   ]
  },
  {
   "cell_type": "code",
   "execution_count": 27,
   "metadata": {},
   "outputs": [
    {
     "name": "stdout",
     "output_type": "stream",
     "text": [
      "Original array:  [ 0  1  2  3  4  5  6  7  8  9 10 11]\n",
      "Shape of array:  (12,)\n",
      "\n",
      " Reshaped array: \n",
      " [[ 0  1  2  3  4  5]\n",
      " [ 6  7  8  9 10 11]]\n",
      "\n",
      " Flattened array:  [ 0  1  2  3  4  5  6  7  8  9 10 11]\n",
      "\n",
      " Raveled array:  [ 0  1  2  3  4  5  6  7  8  9 10 11]\n",
      "\n",
      " Transpose array: \n",
      " [[ 0  6]\n",
      " [ 1  7]\n",
      " [ 2  8]\n",
      " [ 3  9]\n",
      " [ 4 10]\n",
      " [ 5 11]]\n"
     ]
    }
   ],
   "source": [
    "arr = np.arange(12)\n",
    "print(\"Original array: \", arr)\n",
    "print(\"Shape of array: \", arr.shape)\n",
    "\n",
    "reshaped = arr.reshape(2, 6)\n",
    "print(\"\\n Reshaped array: \\n\", reshaped)\n",
    "\n",
    "flattened = reshaped.flatten()\n",
    "print(\"\\n Flattened array: \", flattened)\n",
    "\n",
    "\n",
    "# ravel (returns view, instead of copy)\n",
    "raveled = reshaped.ravel()\n",
    "# raveled1 = arr.ravel()\n",
    "# print(\"\\n Raveled array original: \", arr)    \n",
    "print(\"\\n Raveled array: \", raveled)    \n",
    "\n",
    "\n",
    "# Transpose\n",
    "transpose = reshaped.T\n",
    "print(\"\\n Transpose array: \\n\", transpose)\n",
    "\n"
   ]
  },
  {
   "cell_type": "markdown",
   "metadata": {},
   "source": []
  },
  {
   "cell_type": "code",
   "execution_count": null,
   "metadata": {},
   "outputs": [],
   "source": []
  }
 ],
 "metadata": {
  "kernelspec": {
   "display_name": "venv",
   "language": "python",
   "name": "python3"
  },
  "language_info": {
   "codemirror_mode": {
    "name": "ipython",
    "version": 3
   },
   "file_extension": ".py",
   "mimetype": "text/x-python",
   "name": "python",
   "nbconvert_exporter": "python",
   "pygments_lexer": "ipython3",
   "version": "3.12.4"
  }
 },
 "nbformat": 4,
 "nbformat_minor": 2
}
